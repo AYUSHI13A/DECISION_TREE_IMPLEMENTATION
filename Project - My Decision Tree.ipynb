{
 "cells": [
  {
   "cell_type": "markdown",
   "id": "a26a5119",
   "metadata": {},
   "source": [
    "# Project: Decision Tree Implementation"
   ]
  },
  {
   "cell_type": "markdown",
   "id": "5d0b32a4",
   "metadata": {},
   "source": [
    "## Submitted By : Ayushi"
   ]
  },
  {
   "cell_type": "markdown",
   "id": "523848fd",
   "metadata": {},
   "source": [
    "### Project is Divided in 3 parts :\n",
    "        1) converted continuos to discrete value and then printing decision tree steps\n",
    "        2) Creating Decision Tree Classifier\n",
    "        3) Visualizing iris_dataset_tree and OR_tree"
   ]
  },
  {
   "cell_type": "markdown",
   "id": "e1a6395f",
   "metadata": {},
   "source": [
    "### Import required libraries"
   ]
  },
  {
   "cell_type": "code",
   "execution_count": 31,
   "id": "e6fe8412",
   "metadata": {},
   "outputs": [],
   "source": [
    "import numpy as np\n",
    "import pandas as pd\n",
    "from sklearn import datasets\n",
    "from sklearn.tree import DecisionTreeClassifier , plot_tree\n",
    "from sklearn.tree import export_graphviz\n",
    "from sklearn.model_selection import train_test_split\n",
    "from IPython.display import Image\n",
    "import matplotlib.pyplot as plt\n",
    "from sklearn.metrics import confusion_matrix , classification_report\n",
    "import pydotplus\n",
    "import math\n",
    "from collections import Counter"
   ]
  },
  {
   "cell_type": "code",
   "execution_count": 32,
   "id": "66b2557c",
   "metadata": {},
   "outputs": [],
   "source": [
    "iris = datasets.load_iris()"
   ]
  },
  {
   "cell_type": "code",
   "execution_count": 33,
   "id": "941b167c",
   "metadata": {},
   "outputs": [
    {
     "data": {
      "text/plain": [
       "{'data': array([[5.1, 3.5, 1.4, 0.2],\n",
       "        [4.9, 3. , 1.4, 0.2],\n",
       "        [4.7, 3.2, 1.3, 0.2],\n",
       "        [4.6, 3.1, 1.5, 0.2],\n",
       "        [5. , 3.6, 1.4, 0.2],\n",
       "        [5.4, 3.9, 1.7, 0.4],\n",
       "        [4.6, 3.4, 1.4, 0.3],\n",
       "        [5. , 3.4, 1.5, 0.2],\n",
       "        [4.4, 2.9, 1.4, 0.2],\n",
       "        [4.9, 3.1, 1.5, 0.1],\n",
       "        [5.4, 3.7, 1.5, 0.2],\n",
       "        [4.8, 3.4, 1.6, 0.2],\n",
       "        [4.8, 3. , 1.4, 0.1],\n",
       "        [4.3, 3. , 1.1, 0.1],\n",
       "        [5.8, 4. , 1.2, 0.2],\n",
       "        [5.7, 4.4, 1.5, 0.4],\n",
       "        [5.4, 3.9, 1.3, 0.4],\n",
       "        [5.1, 3.5, 1.4, 0.3],\n",
       "        [5.7, 3.8, 1.7, 0.3],\n",
       "        [5.1, 3.8, 1.5, 0.3],\n",
       "        [5.4, 3.4, 1.7, 0.2],\n",
       "        [5.1, 3.7, 1.5, 0.4],\n",
       "        [4.6, 3.6, 1. , 0.2],\n",
       "        [5.1, 3.3, 1.7, 0.5],\n",
       "        [4.8, 3.4, 1.9, 0.2],\n",
       "        [5. , 3. , 1.6, 0.2],\n",
       "        [5. , 3.4, 1.6, 0.4],\n",
       "        [5.2, 3.5, 1.5, 0.2],\n",
       "        [5.2, 3.4, 1.4, 0.2],\n",
       "        [4.7, 3.2, 1.6, 0.2],\n",
       "        [4.8, 3.1, 1.6, 0.2],\n",
       "        [5.4, 3.4, 1.5, 0.4],\n",
       "        [5.2, 4.1, 1.5, 0.1],\n",
       "        [5.5, 4.2, 1.4, 0.2],\n",
       "        [4.9, 3.1, 1.5, 0.2],\n",
       "        [5. , 3.2, 1.2, 0.2],\n",
       "        [5.5, 3.5, 1.3, 0.2],\n",
       "        [4.9, 3.6, 1.4, 0.1],\n",
       "        [4.4, 3. , 1.3, 0.2],\n",
       "        [5.1, 3.4, 1.5, 0.2],\n",
       "        [5. , 3.5, 1.3, 0.3],\n",
       "        [4.5, 2.3, 1.3, 0.3],\n",
       "        [4.4, 3.2, 1.3, 0.2],\n",
       "        [5. , 3.5, 1.6, 0.6],\n",
       "        [5.1, 3.8, 1.9, 0.4],\n",
       "        [4.8, 3. , 1.4, 0.3],\n",
       "        [5.1, 3.8, 1.6, 0.2],\n",
       "        [4.6, 3.2, 1.4, 0.2],\n",
       "        [5.3, 3.7, 1.5, 0.2],\n",
       "        [5. , 3.3, 1.4, 0.2],\n",
       "        [7. , 3.2, 4.7, 1.4],\n",
       "        [6.4, 3.2, 4.5, 1.5],\n",
       "        [6.9, 3.1, 4.9, 1.5],\n",
       "        [5.5, 2.3, 4. , 1.3],\n",
       "        [6.5, 2.8, 4.6, 1.5],\n",
       "        [5.7, 2.8, 4.5, 1.3],\n",
       "        [6.3, 3.3, 4.7, 1.6],\n",
       "        [4.9, 2.4, 3.3, 1. ],\n",
       "        [6.6, 2.9, 4.6, 1.3],\n",
       "        [5.2, 2.7, 3.9, 1.4],\n",
       "        [5. , 2. , 3.5, 1. ],\n",
       "        [5.9, 3. , 4.2, 1.5],\n",
       "        [6. , 2.2, 4. , 1. ],\n",
       "        [6.1, 2.9, 4.7, 1.4],\n",
       "        [5.6, 2.9, 3.6, 1.3],\n",
       "        [6.7, 3.1, 4.4, 1.4],\n",
       "        [5.6, 3. , 4.5, 1.5],\n",
       "        [5.8, 2.7, 4.1, 1. ],\n",
       "        [6.2, 2.2, 4.5, 1.5],\n",
       "        [5.6, 2.5, 3.9, 1.1],\n",
       "        [5.9, 3.2, 4.8, 1.8],\n",
       "        [6.1, 2.8, 4. , 1.3],\n",
       "        [6.3, 2.5, 4.9, 1.5],\n",
       "        [6.1, 2.8, 4.7, 1.2],\n",
       "        [6.4, 2.9, 4.3, 1.3],\n",
       "        [6.6, 3. , 4.4, 1.4],\n",
       "        [6.8, 2.8, 4.8, 1.4],\n",
       "        [6.7, 3. , 5. , 1.7],\n",
       "        [6. , 2.9, 4.5, 1.5],\n",
       "        [5.7, 2.6, 3.5, 1. ],\n",
       "        [5.5, 2.4, 3.8, 1.1],\n",
       "        [5.5, 2.4, 3.7, 1. ],\n",
       "        [5.8, 2.7, 3.9, 1.2],\n",
       "        [6. , 2.7, 5.1, 1.6],\n",
       "        [5.4, 3. , 4.5, 1.5],\n",
       "        [6. , 3.4, 4.5, 1.6],\n",
       "        [6.7, 3.1, 4.7, 1.5],\n",
       "        [6.3, 2.3, 4.4, 1.3],\n",
       "        [5.6, 3. , 4.1, 1.3],\n",
       "        [5.5, 2.5, 4. , 1.3],\n",
       "        [5.5, 2.6, 4.4, 1.2],\n",
       "        [6.1, 3. , 4.6, 1.4],\n",
       "        [5.8, 2.6, 4. , 1.2],\n",
       "        [5. , 2.3, 3.3, 1. ],\n",
       "        [5.6, 2.7, 4.2, 1.3],\n",
       "        [5.7, 3. , 4.2, 1.2],\n",
       "        [5.7, 2.9, 4.2, 1.3],\n",
       "        [6.2, 2.9, 4.3, 1.3],\n",
       "        [5.1, 2.5, 3. , 1.1],\n",
       "        [5.7, 2.8, 4.1, 1.3],\n",
       "        [6.3, 3.3, 6. , 2.5],\n",
       "        [5.8, 2.7, 5.1, 1.9],\n",
       "        [7.1, 3. , 5.9, 2.1],\n",
       "        [6.3, 2.9, 5.6, 1.8],\n",
       "        [6.5, 3. , 5.8, 2.2],\n",
       "        [7.6, 3. , 6.6, 2.1],\n",
       "        [4.9, 2.5, 4.5, 1.7],\n",
       "        [7.3, 2.9, 6.3, 1.8],\n",
       "        [6.7, 2.5, 5.8, 1.8],\n",
       "        [7.2, 3.6, 6.1, 2.5],\n",
       "        [6.5, 3.2, 5.1, 2. ],\n",
       "        [6.4, 2.7, 5.3, 1.9],\n",
       "        [6.8, 3. , 5.5, 2.1],\n",
       "        [5.7, 2.5, 5. , 2. ],\n",
       "        [5.8, 2.8, 5.1, 2.4],\n",
       "        [6.4, 3.2, 5.3, 2.3],\n",
       "        [6.5, 3. , 5.5, 1.8],\n",
       "        [7.7, 3.8, 6.7, 2.2],\n",
       "        [7.7, 2.6, 6.9, 2.3],\n",
       "        [6. , 2.2, 5. , 1.5],\n",
       "        [6.9, 3.2, 5.7, 2.3],\n",
       "        [5.6, 2.8, 4.9, 2. ],\n",
       "        [7.7, 2.8, 6.7, 2. ],\n",
       "        [6.3, 2.7, 4.9, 1.8],\n",
       "        [6.7, 3.3, 5.7, 2.1],\n",
       "        [7.2, 3.2, 6. , 1.8],\n",
       "        [6.2, 2.8, 4.8, 1.8],\n",
       "        [6.1, 3. , 4.9, 1.8],\n",
       "        [6.4, 2.8, 5.6, 2.1],\n",
       "        [7.2, 3. , 5.8, 1.6],\n",
       "        [7.4, 2.8, 6.1, 1.9],\n",
       "        [7.9, 3.8, 6.4, 2. ],\n",
       "        [6.4, 2.8, 5.6, 2.2],\n",
       "        [6.3, 2.8, 5.1, 1.5],\n",
       "        [6.1, 2.6, 5.6, 1.4],\n",
       "        [7.7, 3. , 6.1, 2.3],\n",
       "        [6.3, 3.4, 5.6, 2.4],\n",
       "        [6.4, 3.1, 5.5, 1.8],\n",
       "        [6. , 3. , 4.8, 1.8],\n",
       "        [6.9, 3.1, 5.4, 2.1],\n",
       "        [6.7, 3.1, 5.6, 2.4],\n",
       "        [6.9, 3.1, 5.1, 2.3],\n",
       "        [5.8, 2.7, 5.1, 1.9],\n",
       "        [6.8, 3.2, 5.9, 2.3],\n",
       "        [6.7, 3.3, 5.7, 2.5],\n",
       "        [6.7, 3. , 5.2, 2.3],\n",
       "        [6.3, 2.5, 5. , 1.9],\n",
       "        [6.5, 3. , 5.2, 2. ],\n",
       "        [6.2, 3.4, 5.4, 2.3],\n",
       "        [5.9, 3. , 5.1, 1.8]]),\n",
       " 'target': array([0, 0, 0, 0, 0, 0, 0, 0, 0, 0, 0, 0, 0, 0, 0, 0, 0, 0, 0, 0, 0, 0,\n",
       "        0, 0, 0, 0, 0, 0, 0, 0, 0, 0, 0, 0, 0, 0, 0, 0, 0, 0, 0, 0, 0, 0,\n",
       "        0, 0, 0, 0, 0, 0, 1, 1, 1, 1, 1, 1, 1, 1, 1, 1, 1, 1, 1, 1, 1, 1,\n",
       "        1, 1, 1, 1, 1, 1, 1, 1, 1, 1, 1, 1, 1, 1, 1, 1, 1, 1, 1, 1, 1, 1,\n",
       "        1, 1, 1, 1, 1, 1, 1, 1, 1, 1, 1, 1, 2, 2, 2, 2, 2, 2, 2, 2, 2, 2,\n",
       "        2, 2, 2, 2, 2, 2, 2, 2, 2, 2, 2, 2, 2, 2, 2, 2, 2, 2, 2, 2, 2, 2,\n",
       "        2, 2, 2, 2, 2, 2, 2, 2, 2, 2, 2, 2, 2, 2, 2, 2, 2, 2]),\n",
       " 'frame': None,\n",
       " 'target_names': array(['setosa', 'versicolor', 'virginica'], dtype='<U10'),\n",
       " 'DESCR': '.. _iris_dataset:\\n\\nIris plants dataset\\n--------------------\\n\\n**Data Set Characteristics:**\\n\\n    :Number of Instances: 150 (50 in each of three classes)\\n    :Number of Attributes: 4 numeric, predictive attributes and the class\\n    :Attribute Information:\\n        - sepal length in cm\\n        - sepal width in cm\\n        - petal length in cm\\n        - petal width in cm\\n        - class:\\n                - Iris-Setosa\\n                - Iris-Versicolour\\n                - Iris-Virginica\\n                \\n    :Summary Statistics:\\n\\n    ============== ==== ==== ======= ===== ====================\\n                    Min  Max   Mean    SD   Class Correlation\\n    ============== ==== ==== ======= ===== ====================\\n    sepal length:   4.3  7.9   5.84   0.83    0.7826\\n    sepal width:    2.0  4.4   3.05   0.43   -0.4194\\n    petal length:   1.0  6.9   3.76   1.76    0.9490  (high!)\\n    petal width:    0.1  2.5   1.20   0.76    0.9565  (high!)\\n    ============== ==== ==== ======= ===== ====================\\n\\n    :Missing Attribute Values: None\\n    :Class Distribution: 33.3% for each of 3 classes.\\n    :Creator: R.A. Fisher\\n    :Donor: Michael Marshall (MARSHALL%PLU@io.arc.nasa.gov)\\n    :Date: July, 1988\\n\\nThe famous Iris database, first used by Sir R.A. Fisher. The dataset is taken\\nfrom Fisher\\'s paper. Note that it\\'s the same as in R, but not as in the UCI\\nMachine Learning Repository, which has two wrong data points.\\n\\nThis is perhaps the best known database to be found in the\\npattern recognition literature.  Fisher\\'s paper is a classic in the field and\\nis referenced frequently to this day.  (See Duda & Hart, for example.)  The\\ndata set contains 3 classes of 50 instances each, where each class refers to a\\ntype of iris plant.  One class is linearly separable from the other 2; the\\nlatter are NOT linearly separable from each other.\\n\\n.. topic:: References\\n\\n   - Fisher, R.A. \"The use of multiple measurements in taxonomic problems\"\\n     Annual Eugenics, 7, Part II, 179-188 (1936); also in \"Contributions to\\n     Mathematical Statistics\" (John Wiley, NY, 1950).\\n   - Duda, R.O., & Hart, P.E. (1973) Pattern Classification and Scene Analysis.\\n     (Q327.D83) John Wiley & Sons.  ISBN 0-471-22361-1.  See page 218.\\n   - Dasarathy, B.V. (1980) \"Nosing Around the Neighborhood: A New System\\n     Structure and Classification Rule for Recognition in Partially Exposed\\n     Environments\".  IEEE Transactions on Pattern Analysis and Machine\\n     Intelligence, Vol. PAMI-2, No. 1, 67-71.\\n   - Gates, G.W. (1972) \"The Reduced Nearest Neighbor Rule\".  IEEE Transactions\\n     on Information Theory, May 1972, 431-433.\\n   - See also: 1988 MLC Proceedings, 54-64.  Cheeseman et al\"s AUTOCLASS II\\n     conceptual clustering system finds 3 classes in the data.\\n   - Many, many more ...',\n",
       " 'feature_names': ['sepal length (cm)',\n",
       "  'sepal width (cm)',\n",
       "  'petal length (cm)',\n",
       "  'petal width (cm)'],\n",
       " 'filename': 'iris.csv',\n",
       " 'data_module': 'sklearn.datasets.data'}"
      ]
     },
     "execution_count": 33,
     "metadata": {},
     "output_type": "execute_result"
    }
   ],
   "source": [
    "iris"
   ]
  },
  {
   "cell_type": "code",
   "execution_count": 34,
   "id": "50adaf25",
   "metadata": {},
   "outputs": [],
   "source": [
    "X_iris = iris.data\n",
    "Y_iris = iris.target"
   ]
  },
  {
   "cell_type": "code",
   "execution_count": 35,
   "id": "709653c2",
   "metadata": {},
   "outputs": [
    {
     "data": {
      "text/plain": [
       "array([[5.1, 3.5, 1.4, 0.2],\n",
       "       [4.9, 3. , 1.4, 0.2],\n",
       "       [4.7, 3.2, 1.3, 0.2],\n",
       "       [4.6, 3.1, 1.5, 0.2],\n",
       "       [5. , 3.6, 1.4, 0.2],\n",
       "       [5.4, 3.9, 1.7, 0.4],\n",
       "       [4.6, 3.4, 1.4, 0.3],\n",
       "       [5. , 3.4, 1.5, 0.2],\n",
       "       [4.4, 2.9, 1.4, 0.2],\n",
       "       [4.9, 3.1, 1.5, 0.1],\n",
       "       [5.4, 3.7, 1.5, 0.2],\n",
       "       [4.8, 3.4, 1.6, 0.2],\n",
       "       [4.8, 3. , 1.4, 0.1],\n",
       "       [4.3, 3. , 1.1, 0.1],\n",
       "       [5.8, 4. , 1.2, 0.2],\n",
       "       [5.7, 4.4, 1.5, 0.4],\n",
       "       [5.4, 3.9, 1.3, 0.4],\n",
       "       [5.1, 3.5, 1.4, 0.3],\n",
       "       [5.7, 3.8, 1.7, 0.3],\n",
       "       [5.1, 3.8, 1.5, 0.3],\n",
       "       [5.4, 3.4, 1.7, 0.2],\n",
       "       [5.1, 3.7, 1.5, 0.4],\n",
       "       [4.6, 3.6, 1. , 0.2],\n",
       "       [5.1, 3.3, 1.7, 0.5],\n",
       "       [4.8, 3.4, 1.9, 0.2],\n",
       "       [5. , 3. , 1.6, 0.2],\n",
       "       [5. , 3.4, 1.6, 0.4],\n",
       "       [5.2, 3.5, 1.5, 0.2],\n",
       "       [5.2, 3.4, 1.4, 0.2],\n",
       "       [4.7, 3.2, 1.6, 0.2],\n",
       "       [4.8, 3.1, 1.6, 0.2],\n",
       "       [5.4, 3.4, 1.5, 0.4],\n",
       "       [5.2, 4.1, 1.5, 0.1],\n",
       "       [5.5, 4.2, 1.4, 0.2],\n",
       "       [4.9, 3.1, 1.5, 0.2],\n",
       "       [5. , 3.2, 1.2, 0.2],\n",
       "       [5.5, 3.5, 1.3, 0.2],\n",
       "       [4.9, 3.6, 1.4, 0.1],\n",
       "       [4.4, 3. , 1.3, 0.2],\n",
       "       [5.1, 3.4, 1.5, 0.2],\n",
       "       [5. , 3.5, 1.3, 0.3],\n",
       "       [4.5, 2.3, 1.3, 0.3],\n",
       "       [4.4, 3.2, 1.3, 0.2],\n",
       "       [5. , 3.5, 1.6, 0.6],\n",
       "       [5.1, 3.8, 1.9, 0.4],\n",
       "       [4.8, 3. , 1.4, 0.3],\n",
       "       [5.1, 3.8, 1.6, 0.2],\n",
       "       [4.6, 3.2, 1.4, 0.2],\n",
       "       [5.3, 3.7, 1.5, 0.2],\n",
       "       [5. , 3.3, 1.4, 0.2],\n",
       "       [7. , 3.2, 4.7, 1.4],\n",
       "       [6.4, 3.2, 4.5, 1.5],\n",
       "       [6.9, 3.1, 4.9, 1.5],\n",
       "       [5.5, 2.3, 4. , 1.3],\n",
       "       [6.5, 2.8, 4.6, 1.5],\n",
       "       [5.7, 2.8, 4.5, 1.3],\n",
       "       [6.3, 3.3, 4.7, 1.6],\n",
       "       [4.9, 2.4, 3.3, 1. ],\n",
       "       [6.6, 2.9, 4.6, 1.3],\n",
       "       [5.2, 2.7, 3.9, 1.4],\n",
       "       [5. , 2. , 3.5, 1. ],\n",
       "       [5.9, 3. , 4.2, 1.5],\n",
       "       [6. , 2.2, 4. , 1. ],\n",
       "       [6.1, 2.9, 4.7, 1.4],\n",
       "       [5.6, 2.9, 3.6, 1.3],\n",
       "       [6.7, 3.1, 4.4, 1.4],\n",
       "       [5.6, 3. , 4.5, 1.5],\n",
       "       [5.8, 2.7, 4.1, 1. ],\n",
       "       [6.2, 2.2, 4.5, 1.5],\n",
       "       [5.6, 2.5, 3.9, 1.1],\n",
       "       [5.9, 3.2, 4.8, 1.8],\n",
       "       [6.1, 2.8, 4. , 1.3],\n",
       "       [6.3, 2.5, 4.9, 1.5],\n",
       "       [6.1, 2.8, 4.7, 1.2],\n",
       "       [6.4, 2.9, 4.3, 1.3],\n",
       "       [6.6, 3. , 4.4, 1.4],\n",
       "       [6.8, 2.8, 4.8, 1.4],\n",
       "       [6.7, 3. , 5. , 1.7],\n",
       "       [6. , 2.9, 4.5, 1.5],\n",
       "       [5.7, 2.6, 3.5, 1. ],\n",
       "       [5.5, 2.4, 3.8, 1.1],\n",
       "       [5.5, 2.4, 3.7, 1. ],\n",
       "       [5.8, 2.7, 3.9, 1.2],\n",
       "       [6. , 2.7, 5.1, 1.6],\n",
       "       [5.4, 3. , 4.5, 1.5],\n",
       "       [6. , 3.4, 4.5, 1.6],\n",
       "       [6.7, 3.1, 4.7, 1.5],\n",
       "       [6.3, 2.3, 4.4, 1.3],\n",
       "       [5.6, 3. , 4.1, 1.3],\n",
       "       [5.5, 2.5, 4. , 1.3],\n",
       "       [5.5, 2.6, 4.4, 1.2],\n",
       "       [6.1, 3. , 4.6, 1.4],\n",
       "       [5.8, 2.6, 4. , 1.2],\n",
       "       [5. , 2.3, 3.3, 1. ],\n",
       "       [5.6, 2.7, 4.2, 1.3],\n",
       "       [5.7, 3. , 4.2, 1.2],\n",
       "       [5.7, 2.9, 4.2, 1.3],\n",
       "       [6.2, 2.9, 4.3, 1.3],\n",
       "       [5.1, 2.5, 3. , 1.1],\n",
       "       [5.7, 2.8, 4.1, 1.3],\n",
       "       [6.3, 3.3, 6. , 2.5],\n",
       "       [5.8, 2.7, 5.1, 1.9],\n",
       "       [7.1, 3. , 5.9, 2.1],\n",
       "       [6.3, 2.9, 5.6, 1.8],\n",
       "       [6.5, 3. , 5.8, 2.2],\n",
       "       [7.6, 3. , 6.6, 2.1],\n",
       "       [4.9, 2.5, 4.5, 1.7],\n",
       "       [7.3, 2.9, 6.3, 1.8],\n",
       "       [6.7, 2.5, 5.8, 1.8],\n",
       "       [7.2, 3.6, 6.1, 2.5],\n",
       "       [6.5, 3.2, 5.1, 2. ],\n",
       "       [6.4, 2.7, 5.3, 1.9],\n",
       "       [6.8, 3. , 5.5, 2.1],\n",
       "       [5.7, 2.5, 5. , 2. ],\n",
       "       [5.8, 2.8, 5.1, 2.4],\n",
       "       [6.4, 3.2, 5.3, 2.3],\n",
       "       [6.5, 3. , 5.5, 1.8],\n",
       "       [7.7, 3.8, 6.7, 2.2],\n",
       "       [7.7, 2.6, 6.9, 2.3],\n",
       "       [6. , 2.2, 5. , 1.5],\n",
       "       [6.9, 3.2, 5.7, 2.3],\n",
       "       [5.6, 2.8, 4.9, 2. ],\n",
       "       [7.7, 2.8, 6.7, 2. ],\n",
       "       [6.3, 2.7, 4.9, 1.8],\n",
       "       [6.7, 3.3, 5.7, 2.1],\n",
       "       [7.2, 3.2, 6. , 1.8],\n",
       "       [6.2, 2.8, 4.8, 1.8],\n",
       "       [6.1, 3. , 4.9, 1.8],\n",
       "       [6.4, 2.8, 5.6, 2.1],\n",
       "       [7.2, 3. , 5.8, 1.6],\n",
       "       [7.4, 2.8, 6.1, 1.9],\n",
       "       [7.9, 3.8, 6.4, 2. ],\n",
       "       [6.4, 2.8, 5.6, 2.2],\n",
       "       [6.3, 2.8, 5.1, 1.5],\n",
       "       [6.1, 2.6, 5.6, 1.4],\n",
       "       [7.7, 3. , 6.1, 2.3],\n",
       "       [6.3, 3.4, 5.6, 2.4],\n",
       "       [6.4, 3.1, 5.5, 1.8],\n",
       "       [6. , 3. , 4.8, 1.8],\n",
       "       [6.9, 3.1, 5.4, 2.1],\n",
       "       [6.7, 3.1, 5.6, 2.4],\n",
       "       [6.9, 3.1, 5.1, 2.3],\n",
       "       [5.8, 2.7, 5.1, 1.9],\n",
       "       [6.8, 3.2, 5.9, 2.3],\n",
       "       [6.7, 3.3, 5.7, 2.5],\n",
       "       [6.7, 3. , 5.2, 2.3],\n",
       "       [6.3, 2.5, 5. , 1.9],\n",
       "       [6.5, 3. , 5.2, 2. ],\n",
       "       [6.2, 3.4, 5.4, 2.3],\n",
       "       [5.9, 3. , 5.1, 1.8]])"
      ]
     },
     "execution_count": 35,
     "metadata": {},
     "output_type": "execute_result"
    }
   ],
   "source": [
    "X_iris"
   ]
  },
  {
   "cell_type": "code",
   "execution_count": 36,
   "id": "42f2bcbb",
   "metadata": {},
   "outputs": [
    {
     "data": {
      "text/plain": [
       "array([0, 0, 0, 0, 0, 0, 0, 0, 0, 0, 0, 0, 0, 0, 0, 0, 0, 0, 0, 0, 0, 0,\n",
       "       0, 0, 0, 0, 0, 0, 0, 0, 0, 0, 0, 0, 0, 0, 0, 0, 0, 0, 0, 0, 0, 0,\n",
       "       0, 0, 0, 0, 0, 0, 1, 1, 1, 1, 1, 1, 1, 1, 1, 1, 1, 1, 1, 1, 1, 1,\n",
       "       1, 1, 1, 1, 1, 1, 1, 1, 1, 1, 1, 1, 1, 1, 1, 1, 1, 1, 1, 1, 1, 1,\n",
       "       1, 1, 1, 1, 1, 1, 1, 1, 1, 1, 1, 1, 2, 2, 2, 2, 2, 2, 2, 2, 2, 2,\n",
       "       2, 2, 2, 2, 2, 2, 2, 2, 2, 2, 2, 2, 2, 2, 2, 2, 2, 2, 2, 2, 2, 2,\n",
       "       2, 2, 2, 2, 2, 2, 2, 2, 2, 2, 2, 2, 2, 2, 2, 2, 2, 2])"
      ]
     },
     "execution_count": 36,
     "metadata": {},
     "output_type": "execute_result"
    }
   ],
   "source": [
    "Y_iris"
   ]
  },
  {
   "cell_type": "code",
   "execution_count": 37,
   "id": "5dc1ee0c",
   "metadata": {},
   "outputs": [],
   "source": [
    "iris = pd.DataFrame(X_iris , columns = [\"SL\" , \"SW\" , \"PL\" , \"PW\"])"
   ]
  },
  {
   "cell_type": "code",
   "execution_count": 38,
   "id": "ecf55a0c",
   "metadata": {},
   "outputs": [
    {
     "data": {
      "text/html": [
       "<div>\n",
       "<style scoped>\n",
       "    .dataframe tbody tr th:only-of-type {\n",
       "        vertical-align: middle;\n",
       "    }\n",
       "\n",
       "    .dataframe tbody tr th {\n",
       "        vertical-align: top;\n",
       "    }\n",
       "\n",
       "    .dataframe thead th {\n",
       "        text-align: right;\n",
       "    }\n",
       "</style>\n",
       "<table border=\"1\" class=\"dataframe\">\n",
       "  <thead>\n",
       "    <tr style=\"text-align: right;\">\n",
       "      <th></th>\n",
       "      <th>SL</th>\n",
       "      <th>SW</th>\n",
       "      <th>PL</th>\n",
       "      <th>PW</th>\n",
       "    </tr>\n",
       "  </thead>\n",
       "  <tbody>\n",
       "    <tr>\n",
       "      <th>0</th>\n",
       "      <td>5.1</td>\n",
       "      <td>3.5</td>\n",
       "      <td>1.4</td>\n",
       "      <td>0.2</td>\n",
       "    </tr>\n",
       "    <tr>\n",
       "      <th>1</th>\n",
       "      <td>4.9</td>\n",
       "      <td>3.0</td>\n",
       "      <td>1.4</td>\n",
       "      <td>0.2</td>\n",
       "    </tr>\n",
       "    <tr>\n",
       "      <th>2</th>\n",
       "      <td>4.7</td>\n",
       "      <td>3.2</td>\n",
       "      <td>1.3</td>\n",
       "      <td>0.2</td>\n",
       "    </tr>\n",
       "    <tr>\n",
       "      <th>3</th>\n",
       "      <td>4.6</td>\n",
       "      <td>3.1</td>\n",
       "      <td>1.5</td>\n",
       "      <td>0.2</td>\n",
       "    </tr>\n",
       "    <tr>\n",
       "      <th>4</th>\n",
       "      <td>5.0</td>\n",
       "      <td>3.6</td>\n",
       "      <td>1.4</td>\n",
       "      <td>0.2</td>\n",
       "    </tr>\n",
       "    <tr>\n",
       "      <th>...</th>\n",
       "      <td>...</td>\n",
       "      <td>...</td>\n",
       "      <td>...</td>\n",
       "      <td>...</td>\n",
       "    </tr>\n",
       "    <tr>\n",
       "      <th>145</th>\n",
       "      <td>6.7</td>\n",
       "      <td>3.0</td>\n",
       "      <td>5.2</td>\n",
       "      <td>2.3</td>\n",
       "    </tr>\n",
       "    <tr>\n",
       "      <th>146</th>\n",
       "      <td>6.3</td>\n",
       "      <td>2.5</td>\n",
       "      <td>5.0</td>\n",
       "      <td>1.9</td>\n",
       "    </tr>\n",
       "    <tr>\n",
       "      <th>147</th>\n",
       "      <td>6.5</td>\n",
       "      <td>3.0</td>\n",
       "      <td>5.2</td>\n",
       "      <td>2.0</td>\n",
       "    </tr>\n",
       "    <tr>\n",
       "      <th>148</th>\n",
       "      <td>6.2</td>\n",
       "      <td>3.4</td>\n",
       "      <td>5.4</td>\n",
       "      <td>2.3</td>\n",
       "    </tr>\n",
       "    <tr>\n",
       "      <th>149</th>\n",
       "      <td>5.9</td>\n",
       "      <td>3.0</td>\n",
       "      <td>5.1</td>\n",
       "      <td>1.8</td>\n",
       "    </tr>\n",
       "  </tbody>\n",
       "</table>\n",
       "<p>150 rows × 4 columns</p>\n",
       "</div>"
      ],
      "text/plain": [
       "      SL   SW   PL   PW\n",
       "0    5.1  3.5  1.4  0.2\n",
       "1    4.9  3.0  1.4  0.2\n",
       "2    4.7  3.2  1.3  0.2\n",
       "3    4.6  3.1  1.5  0.2\n",
       "4    5.0  3.6  1.4  0.2\n",
       "..   ...  ...  ...  ...\n",
       "145  6.7  3.0  5.2  2.3\n",
       "146  6.3  2.5  5.0  1.9\n",
       "147  6.5  3.0  5.2  2.0\n",
       "148  6.2  3.4  5.4  2.3\n",
       "149  5.9  3.0  5.1  1.8\n",
       "\n",
       "[150 rows x 4 columns]"
      ]
     },
     "execution_count": 38,
     "metadata": {},
     "output_type": "execute_result"
    }
   ],
   "source": [
    "iris"
   ]
  },
  {
   "cell_type": "code",
   "execution_count": 39,
   "id": "5e9dc374",
   "metadata": {},
   "outputs": [],
   "source": [
    "iris[\"Y\"] = Y_iris"
   ]
  },
  {
   "cell_type": "code",
   "execution_count": 40,
   "id": "c7dbad13",
   "metadata": {},
   "outputs": [
    {
     "data": {
      "text/html": [
       "<div>\n",
       "<style scoped>\n",
       "    .dataframe tbody tr th:only-of-type {\n",
       "        vertical-align: middle;\n",
       "    }\n",
       "\n",
       "    .dataframe tbody tr th {\n",
       "        vertical-align: top;\n",
       "    }\n",
       "\n",
       "    .dataframe thead th {\n",
       "        text-align: right;\n",
       "    }\n",
       "</style>\n",
       "<table border=\"1\" class=\"dataframe\">\n",
       "  <thead>\n",
       "    <tr style=\"text-align: right;\">\n",
       "      <th></th>\n",
       "      <th>SL</th>\n",
       "      <th>SW</th>\n",
       "      <th>PL</th>\n",
       "      <th>PW</th>\n",
       "      <th>Y</th>\n",
       "    </tr>\n",
       "  </thead>\n",
       "  <tbody>\n",
       "    <tr>\n",
       "      <th>0</th>\n",
       "      <td>5.1</td>\n",
       "      <td>3.5</td>\n",
       "      <td>1.4</td>\n",
       "      <td>0.2</td>\n",
       "      <td>0</td>\n",
       "    </tr>\n",
       "    <tr>\n",
       "      <th>1</th>\n",
       "      <td>4.9</td>\n",
       "      <td>3.0</td>\n",
       "      <td>1.4</td>\n",
       "      <td>0.2</td>\n",
       "      <td>0</td>\n",
       "    </tr>\n",
       "    <tr>\n",
       "      <th>2</th>\n",
       "      <td>4.7</td>\n",
       "      <td>3.2</td>\n",
       "      <td>1.3</td>\n",
       "      <td>0.2</td>\n",
       "      <td>0</td>\n",
       "    </tr>\n",
       "    <tr>\n",
       "      <th>3</th>\n",
       "      <td>4.6</td>\n",
       "      <td>3.1</td>\n",
       "      <td>1.5</td>\n",
       "      <td>0.2</td>\n",
       "      <td>0</td>\n",
       "    </tr>\n",
       "    <tr>\n",
       "      <th>4</th>\n",
       "      <td>5.0</td>\n",
       "      <td>3.6</td>\n",
       "      <td>1.4</td>\n",
       "      <td>0.2</td>\n",
       "      <td>0</td>\n",
       "    </tr>\n",
       "    <tr>\n",
       "      <th>...</th>\n",
       "      <td>...</td>\n",
       "      <td>...</td>\n",
       "      <td>...</td>\n",
       "      <td>...</td>\n",
       "      <td>...</td>\n",
       "    </tr>\n",
       "    <tr>\n",
       "      <th>145</th>\n",
       "      <td>6.7</td>\n",
       "      <td>3.0</td>\n",
       "      <td>5.2</td>\n",
       "      <td>2.3</td>\n",
       "      <td>2</td>\n",
       "    </tr>\n",
       "    <tr>\n",
       "      <th>146</th>\n",
       "      <td>6.3</td>\n",
       "      <td>2.5</td>\n",
       "      <td>5.0</td>\n",
       "      <td>1.9</td>\n",
       "      <td>2</td>\n",
       "    </tr>\n",
       "    <tr>\n",
       "      <th>147</th>\n",
       "      <td>6.5</td>\n",
       "      <td>3.0</td>\n",
       "      <td>5.2</td>\n",
       "      <td>2.0</td>\n",
       "      <td>2</td>\n",
       "    </tr>\n",
       "    <tr>\n",
       "      <th>148</th>\n",
       "      <td>6.2</td>\n",
       "      <td>3.4</td>\n",
       "      <td>5.4</td>\n",
       "      <td>2.3</td>\n",
       "      <td>2</td>\n",
       "    </tr>\n",
       "    <tr>\n",
       "      <th>149</th>\n",
       "      <td>5.9</td>\n",
       "      <td>3.0</td>\n",
       "      <td>5.1</td>\n",
       "      <td>1.8</td>\n",
       "      <td>2</td>\n",
       "    </tr>\n",
       "  </tbody>\n",
       "</table>\n",
       "<p>150 rows × 5 columns</p>\n",
       "</div>"
      ],
      "text/plain": [
       "      SL   SW   PL   PW  Y\n",
       "0    5.1  3.5  1.4  0.2  0\n",
       "1    4.9  3.0  1.4  0.2  0\n",
       "2    4.7  3.2  1.3  0.2  0\n",
       "3    4.6  3.1  1.5  0.2  0\n",
       "4    5.0  3.6  1.4  0.2  0\n",
       "..   ...  ...  ...  ... ..\n",
       "145  6.7  3.0  5.2  2.3  2\n",
       "146  6.3  2.5  5.0  1.9  2\n",
       "147  6.5  3.0  5.2  2.0  2\n",
       "148  6.2  3.4  5.4  2.3  2\n",
       "149  5.9  3.0  5.1  1.8  2\n",
       "\n",
       "[150 rows x 5 columns]"
      ]
     },
     "execution_count": 40,
     "metadata": {},
     "output_type": "execute_result"
    }
   ],
   "source": [
    "iris"
   ]
  },
  {
   "cell_type": "markdown",
   "id": "480926ae",
   "metadata": {},
   "source": [
    "### In the below function , I am converting continuos values of dataset to discrete values "
   ]
  },
  {
   "cell_type": "markdown",
   "id": "19a2366d",
   "metadata": {},
   "source": [
    "#### For this conversion , I am using pandas.cut function "
   ]
  },
  {
   "cell_type": "code",
   "execution_count": 41,
   "id": "b2df4821",
   "metadata": {},
   "outputs": [],
   "source": [
    "def CONTINUOS_TO_DISCRETE(column, bins):\n",
    "    return pd.cut(column, bins=bins, labels=False)\n",
    "\n",
    "# converting the continuos values to discrete values , except the last column which is the Y column\n",
    "features = iris.columns[:-1]\n",
    "for feature in features:\n",
    "    k = 5  # Number of groups\n",
    "    iris[feature] = CONTINUOS_TO_DISCRETE(iris[feature], bins=k) # calling the function\n",
    "\n"
   ]
  },
  {
   "cell_type": "code",
   "execution_count": 42,
   "id": "74240c61",
   "metadata": {},
   "outputs": [
    {
     "name": "stdout",
     "output_type": "stream",
     "text": [
      "   SL  SW  PL  PW  Y\n",
      "0   1   3   0   0  0\n",
      "1   0   2   0   0  0\n",
      "2   0   2   0   0  0\n",
      "3   0   2   0   0  0\n",
      "4   0   3   0   0  0\n"
     ]
    }
   ],
   "source": [
    "print(iris.head())"
   ]
  },
  {
   "cell_type": "markdown",
   "id": "de417b24",
   "metadata": {},
   "source": [
    "## Printing the Decision tree steps as specified "
   ]
  },
  {
   "cell_type": "code",
   "execution_count": 43,
   "id": "b1ff0d07",
   "metadata": {},
   "outputs": [],
   "source": [
    "def print_tree(iris , features , level) :\n",
    "    # printing level \n",
    "    print(\"Level : \" , level)\n",
    "    # In this , printing current display node\n",
    "    display_output(iris)\n",
    "    current_entropy = calculate_entropy(iris)  # calculating entropy of current node\n",
    "    # printing current entropy\n",
    "    print(\"Current Entropy  is = \" , current_entropy)\n",
    "    \n",
    "    # Now , Let's see base cases\n",
    "    # Here , In this case there can be two base bases :\n",
    "    # 1) current node is leaf node\n",
    "    # 2) node is pure \n",
    "    \n",
    "    if len(features) == 0 or purity_check(iris) :\n",
    "        print(\"Reached leaf Node\")\n",
    "        return\n",
    "    \n",
    "    # if the node is not pure or leaf node , the let's find the gain ratio \n",
    "    # using gain_ratio we can find the best feature to split upon \n",
    "    # Because feature with maximum gain_ratio will be the best feature\n",
    "    \n",
    "    maxi_gain = -math.inf      # Here , we are setting maxi_gain as negative infinity \n",
    "    max_gain_feature = 0   # to store the best feature\n",
    "    for feature in features :\n",
    "        gain_ratio = gain_ratio_calculation(iris , feature)   # calculating gain ratio\n",
    "        # Here , trying to find the best feature \n",
    "        if gain_ratio > maxi_gain :\n",
    "            maxi_gain = gain_ratio\n",
    "            max_gain_feature = feature\n",
    "    \n",
    "    print(\"Splitting on feature\" , feature , \"with gain ratio\" , maxi_gain)\n",
    "    \n",
    "    # In new_feature , storing all the feature from the iris column except the max_gain_feature\n",
    "    new_feature = [feature for feature in features if feature != max_gain_feature]\n",
    "    \n",
    "    feature_unique_value = list(set(iris[max_gain_feature]))\n",
    "    # recursive call on every category \n",
    "    for value in feature_unique_value :\n",
    "        sub_data = iris[iris[max_gain_feature] == value]\n",
    "        \n",
    "        # calling recursion\n",
    "        \n",
    "        print_tree(sub_data , new_feature , level+1)\n",
    "        print()\n"
   ]
  },
  {
   "cell_type": "code",
   "execution_count": 44,
   "id": "d1ff2ccf",
   "metadata": {},
   "outputs": [],
   "source": [
    "## finding entropy \n",
    "### formula for entropy is sum(pi*(log(pi)))\n",
    "def calculate_entropy(iris) :  \n",
    "    val_count = iris['Y'].value_counts()\n",
    "    val_count_dict = val_count.to_dict()\n",
    "    for val in val_count_dict :\n",
    "        probabilities = val_count / len(iris)\n",
    "        entropy_value = -np.sum(probabilities * np.log2(probabilities))\n",
    "\n",
    "    return entropy_value \n"
   ]
  },
  {
   "cell_type": "code",
   "execution_count": 45,
   "id": "e9e57e6e",
   "metadata": {},
   "outputs": [],
   "source": [
    "def gain_ratio_calculation(iris , feature) :\n",
    "    # information gain\n",
    "    # total_information_gain = info_original - info_feature \n",
    "    ''' In the above formula of information gain  :\n",
    "            info_original is parent entropy \n",
    "            info_feature is info required after splitting on feature f #or# basically you can also say \n",
    "            that it is weighted average of child entropies .       \n",
    "        '''\n",
    "    parent_entropy = calculate_entropy(iris)\n",
    "    \n",
    "    # Now , calculating weighted average of child entropy\n",
    "    \n",
    "    weighted_child_entropy = 0 \n",
    "    unique_values = iris[feature].unique()\n",
    "    \n",
    "    for value in unique_values :\n",
    "        sub_child = iris[iris[feature]==value]\n",
    "        \n",
    "        sub_child_entropy = calculate_entropy(sub_child)\n",
    "        weight = len(sub_child) / len(iris)\n",
    "        weighted_child_entropy += weight * sub_child_entropy\n",
    "    \n",
    "    # calculating total information gain \n",
    "    total_information_gain = parent_entropy - weighted_child_entropy\n",
    "    \n",
    "    # calculating split_information\n",
    "    # split_info = -sum((|Di| / D) * log(|Di| / D))\n",
    "    # In the above formula , Di = count of ith child\n",
    "                            # D = total count\n",
    "    \n",
    "    split_info = 0\n",
    "    \n",
    "    for value in unique_values :\n",
    "        pro = len(iris[iris[feature] == value]) / len(iris)\n",
    "        split_info -= pro * math.log2(pro) \n",
    "        \n",
    "    if split_info == 0 :       \n",
    "        return 0\n",
    "    \n",
    "    # finally , calculating gain ratio\n",
    "    # gain_ratio = info_gain / split_info\n",
    "    \n",
    "    gain_ratio = total_information_gain / split_info\n",
    "    \n",
    "    return gain_ratio"
   ]
  },
  {
   "cell_type": "code",
   "execution_count": 46,
   "id": "f38a0a39",
   "metadata": {},
   "outputs": [],
   "source": [
    "# In this function , we are checking if the node is leaf node or not , \n",
    "# i.e., it has only 1 value\n",
    "def purity_check(iris) :\n",
    "    # creating dictionary\n",
    "    val_count_dict = iris[\"Y\"].value_counts().to_dict()\n",
    "    # Now , checking if the dictionary i.e., val_count_dict only has 1 , \n",
    "    # if yes -> then return true , else -> return false\n",
    "    if len(val_count_dict) == 1 :\n",
    "        return True\n",
    "    else :\n",
    "        return False"
   ]
  },
  {
   "cell_type": "code",
   "execution_count": 47,
   "id": "228c2982",
   "metadata": {},
   "outputs": [],
   "source": [
    "def display_output(iris) :\n",
    "    # using counter counting the occurences of each unique value \n",
    "    value_count = Counter(iris.Y)\n",
    "    # Now , sorting the count by keys\n",
    "    sorted_val_count = sorted(value_count.items())\n",
    "    \n",
    "    for key , count in sorted_val_count :\n",
    "        print(\"Count of \" , key , \"is\" , count)"
   ]
  },
  {
   "cell_type": "code",
   "execution_count": 48,
   "id": "22321cc8",
   "metadata": {},
   "outputs": [
    {
     "name": "stdout",
     "output_type": "stream",
     "text": [
      "Level :  0\n",
      "Count of  0 is 50\n",
      "Count of  1 is 50\n",
      "Count of  2 is 50\n",
      "Current Entropy  is =  1.584962500721156\n",
      "Splitting on feature PW with gain ratio 0.6345315547087995\n",
      "Level :  1\n",
      "Count of  0 is 50\n",
      "Current Entropy  is =  -0.0\n",
      "Reached leaf Node\n",
      "\n",
      "Level :  1\n",
      "Count of  1 is 3\n",
      "Current Entropy  is =  -0.0\n",
      "Reached leaf Node\n",
      "\n",
      "Level :  1\n",
      "Count of  1 is 33\n",
      "Count of  2 is 1\n",
      "Current Entropy  is =  0.19143325481419343\n",
      "Splitting on feature PW with gain ratio 0.14552679703433022\n",
      "Level :  2\n",
      "Count of  1 is 5\n",
      "Current Entropy  is =  -0.0\n",
      "Reached leaf Node\n",
      "\n",
      "Level :  2\n",
      "Count of  1 is 27\n",
      "Current Entropy  is =  -0.0\n",
      "Reached leaf Node\n",
      "\n",
      "Level :  2\n",
      "Count of  1 is 1\n",
      "Count of  2 is 1\n",
      "Current Entropy  is =  1.0\n",
      "Splitting on feature SW with gain ratio 1.0\n",
      "Level :  3\n",
      "Count of  2 is 1\n",
      "Current Entropy  is =  -0.0\n",
      "Reached leaf Node\n",
      "\n",
      "Level :  3\n",
      "Count of  1 is 1\n",
      "Current Entropy  is =  -0.0\n",
      "Reached leaf Node\n",
      "\n",
      "\n",
      "\n",
      "Level :  1\n",
      "Count of  1 is 14\n",
      "Count of  2 is 33\n",
      "Current Entropy  is =  0.8786744932173093\n",
      "Splitting on feature PW with gain ratio 0.22846149054370532\n",
      "Level :  2\n",
      "Count of  1 is 10\n",
      "Count of  2 is 3\n",
      "Current Entropy  is =  0.7793498372920851\n",
      "Splitting on feature SW with gain ratio 0.2499101324428126\n",
      "Level :  3\n",
      "Count of  1 is 4\n",
      "Count of  2 is 3\n",
      "Current Entropy  is =  0.9852281360342515\n",
      "Splitting on feature SW with gain ratio 0.25390246130775407\n",
      "Level :  4\n",
      "Count of  2 is 1\n",
      "Current Entropy  is =  -0.0\n",
      "Reached leaf Node\n",
      "\n",
      "Level :  4\n",
      "Count of  1 is 3\n",
      "Count of  2 is 2\n",
      "Current Entropy  is =  0.9709505944546686\n",
      "Reached leaf Node\n",
      "\n",
      "Level :  4\n",
      "Count of  1 is 1\n",
      "Current Entropy  is =  -0.0\n",
      "Reached leaf Node\n",
      "\n",
      "\n",
      "Level :  3\n",
      "Count of  1 is 6\n",
      "Current Entropy  is =  -0.0\n",
      "Reached leaf Node\n",
      "\n",
      "\n",
      "Level :  2\n",
      "Count of  1 is 4\n",
      "Count of  2 is 16\n",
      "Current Entropy  is =  0.7219280948873623\n",
      "Splitting on feature SW with gain ratio 0.04678484847737541\n",
      "Level :  3\n",
      "Count of  1 is 1\n",
      "Count of  2 is 9\n",
      "Current Entropy  is =  0.4689955935892812\n",
      "Splitting on feature SL with gain ratio 0.04729562302867757\n",
      "Level :  4\n",
      "Count of  2 is 2\n",
      "Current Entropy  is =  -0.0\n",
      "Reached leaf Node\n",
      "\n",
      "Level :  4\n",
      "Count of  1 is 1\n",
      "Count of  2 is 7\n",
      "Current Entropy  is =  0.5435644431995964\n",
      "Reached leaf Node\n",
      "\n",
      "\n",
      "Level :  3\n",
      "Count of  1 is 3\n",
      "Count of  2 is 7\n",
      "Current Entropy  is =  0.8812908992306927\n",
      "Splitting on feature SL with gain ratio 0.005975740730252702\n",
      "Level :  4\n",
      "Count of  1 is 2\n",
      "Count of  2 is 4\n",
      "Current Entropy  is =  0.9182958340544896\n",
      "Reached leaf Node\n",
      "\n",
      "Level :  4\n",
      "Count of  1 is 1\n",
      "Count of  2 is 3\n",
      "Current Entropy  is =  0.8112781244591328\n",
      "Reached leaf Node\n",
      "\n",
      "\n",
      "\n",
      "Level :  2\n",
      "Count of  2 is 14\n",
      "Current Entropy  is =  -0.0\n",
      "Reached leaf Node\n",
      "\n",
      "\n",
      "Level :  1\n",
      "Count of  2 is 16\n",
      "Current Entropy  is =  -0.0\n",
      "Reached leaf Node\n",
      "\n"
     ]
    }
   ],
   "source": [
    "features = iris.columns[:-1]\n",
    "print_tree(iris, features, 0)"
   ]
  },
  {
   "cell_type": "markdown",
   "id": "a90fbb7c",
   "metadata": {},
   "source": [
    "## Decision Tree Implementation"
   ]
  },
  {
   "cell_type": "code",
   "execution_count": 49,
   "id": "a8bb8a4e",
   "metadata": {},
   "outputs": [],
   "source": [
    "class decision_Tree_node :\n",
    "    def __init__(self , category = None , feature = None , output_y = None) :\n",
    "        self.category = category\n",
    "        self.feature = feature \n",
    "        self.output_y = output_y\n",
    "        self.children = []"
   ]
  },
  {
   "cell_type": "code",
   "execution_count": 50,
   "id": "eaeef84b",
   "metadata": {},
   "outputs": [],
   "source": [
    "class Decision_Tree_classifier() :\n",
    "    \n",
    "    def __init__(self) :\n",
    "        # creates a tree node to store the complete tree \n",
    "        self.Treeroot = None\n",
    "        pass\n",
    "    \n",
    "    def get_majority(self , iris):\n",
    "        maj = iris['Y'].value_counts().to_dict()\n",
    "        \n",
    "        return list(maj)[0]\n",
    "    \n",
    "    def build_tree(self , iris , features , category):\n",
    "        # Let's see base cases\n",
    "        # Here , In this case there can be two base bases :\n",
    "        # 1) current node is leaf node\n",
    "        # 2) node is pure \n",
    "\n",
    "        if len(features) == 0 or purity_check(iris) :\n",
    "            y_output = self.get_majority(iris)\n",
    "            # creating leaf node, and storing the majority output\n",
    "            node = decision_Tree_node(category = category , feature = None , output_y = y_output )\n",
    "            return node\n",
    "\n",
    "\n",
    "        # if the node is not pure or leaf node , the let's find the gain ratio \n",
    "        # using gain_ratio we can find the best feature to split upon \n",
    "        # Because feature with maximum gain_ratio will be the best feature\n",
    "\n",
    "        maxi_gain = -math.inf      # Here , we are setting maxi_gain as negative infinity \n",
    "        max_gain_feature = 0   # to store the best feature\n",
    "        for feature in features :\n",
    "            gain_ratio = gain_ratio_calculation(iris , feature)   # calculating gain ratio\n",
    "            # Here , trying to find the best feature \n",
    "            if gain_ratio > maxi_gain :\n",
    "                maxi_gain = gain_ratio\n",
    "                max_gain_feature = feature\n",
    "\n",
    "        root = decision_Tree_node(category = category , feature = max_gain_feature , output_y = None )\n",
    "        \n",
    "        \n",
    "        # In new_feature , storing all the feature from the iris column except the max_gain_feature\n",
    "        new_feature = [feature for feature in features if feature != max_gain_feature]\n",
    "\n",
    "        feature_unique_value = list(set(iris[max_gain_feature]))\n",
    "        # recursive call on every category \n",
    "        for value in feature_unique_value :\n",
    "            sub_data = iris[iris[max_gain_feature] == value]\n",
    "\n",
    "            # calling recursion\n",
    "\n",
    "            child = self.build_tree(sub_data , new_feature , value)\n",
    "            root.children.append(child)\n",
    "            \n",
    "        return root\n",
    "    def fit(self , iris) :\n",
    "        # This function call the build tree function and creates the Tree\n",
    "        features = iris.columns[: -1]\n",
    "        self.Treeroot = self.build_tree(iris , features , None)\n",
    "    def print_my_decision_tree(self) :\n",
    "        ## this function calls the print_tree_function\n",
    "        if not self.Treeroot :\n",
    "            print('Model no trained yet!!!')\n",
    "            return\n",
    "            \n",
    "        self.print_tree(self.Treeroot, 0)\n",
    "        \n",
    "    def print_tree(self , root , level) :\n",
    "        \n",
    "        # base case : If the current node is none , return \n",
    "        if root is None :\n",
    "            return \n",
    "        \n",
    "        # print current node's information\n",
    "        if not root.feature :\n",
    "            print(\"Level :\" , level , \"| category :\" , root.category , \"| Leaf\")\n",
    "            return\n",
    "            \n",
    "\n",
    "        print(\"Level :\" , level , \"| category :\" , root.category , \"| splitting on\" , root.feature )\n",
    "        \n",
    "        # Recursively print the subtrees of each child node\n",
    "        \n",
    "        for child in root.children:\n",
    "            self.print_tree( child , level + 1 )\n",
    "            \n",
    "    def predict(self, x_test) :\n",
    "        ## this function is called by main. and it calls the actual predict function defined below\n",
    "        if not self.Treeroot :\n",
    "            print('Model no trained yet!!!')\n",
    "            return \n",
    "        \n",
    "        y_pred = self.predict_output(x_test, self.Treeroot)\n",
    "        return y_pred\n",
    "    \n",
    "    def predict_output(self, x_test, tree) :\n",
    "        ## traverse each input, for each input path it will predict the y_output\n",
    "        y_pred = list()\n",
    "        input_x = x_test.values\n",
    "        for x in input_x :\n",
    "            ans = self.get_y_pred(tree, x)\n",
    "            y_pred.append(ans)\n",
    "        return y_pred\n",
    "    \n",
    "    def get_y_pred(self, tree, x) :\n",
    "        ## base case\n",
    "        ## using 'feature' as null ptr base condition\n",
    "        if not tree.feature :\n",
    "            return tree.output_y\n",
    "        ## select the feature and check category of next\n",
    "        index = {'SL' : 0, 'SW' : 1, 'PL' : 2, 'PW' : 3}\n",
    "        next_feature = tree.feature\n",
    "        feature_index = index[next_feature]\n",
    "        category_to_visit = x[feature_index]\n",
    "        \n",
    "        ## since we have the input only and not the lables, the recursion call is on any best feature and not in 0 1 2 index\n",
    "        ## order, that is why we will map the labels (which are actually stored in 'Feature')\n",
    "        ## and select the feature from the input, by the index\n",
    "\n",
    "        for child in tree.children :\n",
    "            ## we will only go to one path, \n",
    "            ## only to one selected category\n",
    "            ## we need the answer of one path, not all paths.\n",
    "            ## we will match the input category to one of the paths in the split and move on\n",
    "            if child.category == category_to_visit :\n",
    "                ## returns the output\n",
    "                return self.get_y_pred(child, x)"
   ]
  },
  {
   "cell_type": "markdown",
   "id": "ee66b652",
   "metadata": {},
   "source": [
    "### Train and Test split"
   ]
  },
  {
   "cell_type": "code",
   "execution_count": 52,
   "id": "ee071468",
   "metadata": {},
   "outputs": [],
   "source": [
    "df = iris.copy()\n",
    "y_iris = df[\"Y\"]\n",
    "del df[\"Y\"]\n",
    "x_iris = df\n",
    "x_train, x_test, y_train, y_test = train_test_split(x_iris, y_iris, random_state = 42)\n",
    "## merging output column in x_train\n",
    "x_train[\"Y\"] = y_train"
   ]
  },
  {
   "cell_type": "markdown",
   "id": "1f509930",
   "metadata": {},
   "source": [
    "### Creating object "
   ]
  },
  {
   "cell_type": "code",
   "execution_count": 60,
   "id": "c916dc43",
   "metadata": {},
   "outputs": [],
   "source": [
    "decision_tree_object = Decision_Tree_classifier()"
   ]
  },
  {
   "cell_type": "code",
   "execution_count": 61,
   "id": "7b1a2157",
   "metadata": {},
   "outputs": [],
   "source": [
    "decision_tree_object.fit(x_train)"
   ]
  },
  {
   "cell_type": "markdown",
   "id": "0d3997c9",
   "metadata": {},
   "source": [
    "### Printing the tree 🙂"
   ]
  },
  {
   "cell_type": "code",
   "execution_count": 62,
   "id": "b8e44c07",
   "metadata": {},
   "outputs": [
    {
     "name": "stdout",
     "output_type": "stream",
     "text": [
      "Level : 0 | category : None | splitting on PL\n",
      "Level : 1 | category : 0 | Leaf\n",
      "Level : 1 | category : 1 | Leaf\n",
      "Level : 1 | category : 2 | splitting on PW\n",
      "Level : 2 | category : 1 | Leaf\n",
      "Level : 2 | category : 2 | Leaf\n",
      "Level : 2 | category : 3 | splitting on SL\n",
      "Level : 3 | category : 0 | Leaf\n",
      "Level : 3 | category : 2 | Leaf\n",
      "Level : 1 | category : 3 | splitting on PW\n",
      "Level : 2 | category : 2 | splitting on SL\n",
      "Level : 3 | category : 2 | splitting on SW\n",
      "Level : 4 | category : 0 | Leaf\n",
      "Level : 4 | category : 1 | Leaf\n",
      "Level : 4 | category : 2 | Leaf\n",
      "Level : 3 | category : 3 | Leaf\n",
      "Level : 2 | category : 3 | splitting on SL\n",
      "Level : 3 | category : 1 | Leaf\n",
      "Level : 3 | category : 2 | splitting on SW\n",
      "Level : 4 | category : 1 | Leaf\n",
      "Level : 4 | category : 2 | Leaf\n",
      "Level : 3 | category : 3 | splitting on SW\n",
      "Level : 4 | category : 2 | Leaf\n",
      "Level : 2 | category : 4 | Leaf\n",
      "Level : 1 | category : 4 | Leaf\n"
     ]
    }
   ],
   "source": [
    "decision_tree_object.print_my_decision_tree()"
   ]
  },
  {
   "cell_type": "code",
   "execution_count": 63,
   "id": "04b599a0",
   "metadata": {},
   "outputs": [],
   "source": [
    "y_pred = decision_tree_object.predict(x_test)"
   ]
  },
  {
   "cell_type": "code",
   "execution_count": 64,
   "id": "1d25c769",
   "metadata": {},
   "outputs": [
    {
     "name": "stdout",
     "output_type": "stream",
     "text": [
      "Total Test Data Points = 38\n",
      "\n",
      "Actual: 1 Predicted: 2\n",
      "Actual: 0 Predicted: 0\n",
      "Actual: 2 Predicted: 2\n",
      "Actual: 1 Predicted: 1\n",
      "Actual: 1 Predicted: 1\n",
      "Actual: 0 Predicted: 0\n",
      "Actual: 1 Predicted: 1\n",
      "Actual: 2 Predicted: 2\n",
      "Actual: 1 Predicted: 1\n",
      "Actual: 1 Predicted: 1\n",
      "Actual: 2 Predicted: 2\n",
      "Actual: 0 Predicted: 0\n",
      "Actual: 0 Predicted: 0\n",
      "Actual: 0 Predicted: 0\n",
      "Actual: 0 Predicted: 0\n",
      "Actual: 1 Predicted: 2\n",
      "Actual: 2 Predicted: 2\n",
      "Actual: 1 Predicted: 1\n",
      "Actual: 1 Predicted: 1\n",
      "Actual: 2 Predicted: 2\n",
      "Actual: 0 Predicted: 0\n",
      "Actual: 2 Predicted: 2\n",
      "Actual: 0 Predicted: 0\n",
      "Actual: 2 Predicted: 2\n",
      "Actual: 2 Predicted: 2\n",
      "Actual: 2 Predicted: 2\n",
      "Actual: 2 Predicted: 2\n",
      "Actual: 2 Predicted: 2\n",
      "Actual: 0 Predicted: 0\n",
      "Actual: 0 Predicted: 0\n",
      "Actual: 0 Predicted: 0\n",
      "Actual: 0 Predicted: 0\n",
      "Actual: 1 Predicted: 1\n",
      "Actual: 0 Predicted: 0\n",
      "Actual: 0 Predicted: 0\n",
      "Actual: 2 Predicted: 2\n",
      "Actual: 1 Predicted: 1\n",
      "Actual: 0 Predicted: 0\n",
      "Success Count: 36\n",
      "Fail Count: 2\n"
     ]
    }
   ],
   "source": [
    "print('Total Test Data Points =', len(y_pred))\n",
    "print()\n",
    "\n",
    "success_count = 0\n",
    "fail_count = 0\n",
    "\n",
    "for i in range(len(y_pred)):\n",
    "    actual = list(y_test)[i]\n",
    "    predicted = y_pred[i]\n",
    "    print('Actual:', actual, 'Predicted:', predicted)\n",
    "    \n",
    "    if predicted == actual:\n",
    "        success_count = success_count + 1\n",
    "    else:\n",
    "        fail_count = fail_count + 1\n",
    "\n",
    "print('Success Count:', success_count)\n",
    "print('Fail Count:', fail_count)\n"
   ]
  },
  {
   "cell_type": "code",
   "execution_count": 65,
   "id": "0d5ffb87",
   "metadata": {},
   "outputs": [
    {
     "name": "stdout",
     "output_type": "stream",
     "text": [
      "Success Rate : 0.9473684210526315\n",
      "Failure Rate : 0.05263157894736842\n"
     ]
    }
   ],
   "source": [
    "success = (success_count / len(y_pred))\n",
    "fail = (fail_count / len(y_pred))\n",
    "print('Success Rate :', success)\n",
    "print('Failure Rate :', fail)"
   ]
  },
  {
   "cell_type": "markdown",
   "id": "5aafecc7",
   "metadata": {},
   "source": [
    "## visualizing Iris Dataset Tree using pydotplus and graphviz"
   ]
  },
  {
   "cell_type": "markdown",
   "id": "227d9996",
   "metadata": {},
   "source": [
    "#### Using inbuilt classifiers"
   ]
  },
  {
   "cell_type": "code",
   "execution_count": 13,
   "id": "82694bb6",
   "metadata": {},
   "outputs": [],
   "source": [
    "iris = datasets.load_iris()\n",
    "x_train, x_test, y_train, y_test = train_test_split(iris.data, iris.target, random_state = 1)"
   ]
  },
  {
   "cell_type": "code",
   "execution_count": 14,
   "id": "3ecbdd87",
   "metadata": {},
   "outputs": [
    {
     "data": {
      "text/plain": [
       "DecisionTreeClassifier()"
      ]
     },
     "execution_count": 14,
     "metadata": {},
     "output_type": "execute_result"
    }
   ],
   "source": [
    "clf = DecisionTreeClassifier()\n",
    "clf.fit(x_train, y_train)"
   ]
  },
  {
   "cell_type": "code",
   "execution_count": 15,
   "id": "1fe1c450",
   "metadata": {},
   "outputs": [
    {
     "data": {
      "image/png": "[encoded data removed]",
      "text/plain": [
       "<IPython.core.display.Image object>"
      ]
     },
     "execution_count": 15,
     "metadata": {},
     "output_type": "execute_result"
    }
   ],
   "source": [
    "dot_data = export_graphviz(clf, out_file=None,\n",
    "                           feature_names=iris.feature_names, class_names=iris.target_names,\n",
    "                           filled=True, rounded=True, special_characters=False)\n",
    "\n",
    "# Create a graph from the DOT data\n",
    "graph = pydotplus.graph_from_dot_data(dot_data)\n",
    "\n",
    "# Save the graph as an image file (e.g., PNG)\n",
    "graph.write_pdf('iris_tree.pdf')\n",
    "\n",
    "# Display the image\n",
    "Image(graph.create_png())"
   ]
  },
  {
   "cell_type": "markdown",
   "id": "ad013640",
   "metadata": {},
   "source": [
    "## Visualizing OR Tree using pydotplus and graphviz"
   ]
  },
  {
   "cell_type": "code",
   "execution_count": 16,
   "id": "048d483b",
   "metadata": {},
   "outputs": [],
   "source": [
    "# Create dataset for OR logic\n",
    "X = [[0, 0], [0, 1], [1, 0], [1, 1]]\n",
    "y = [0, 1, 1, 1]"
   ]
  },
  {
   "cell_type": "code",
   "execution_count": 17,
   "id": "37bcdad2",
   "metadata": {},
   "outputs": [
    {
     "data": {
      "text/plain": [
       "DecisionTreeClassifier()"
      ]
     },
     "execution_count": 17,
     "metadata": {},
     "output_type": "execute_result"
    }
   ],
   "source": [
    "# Create a Decision Tree classifier\n",
    "clf = DecisionTreeClassifier()\n",
    "clf.fit(X, y)"
   ]
  },
  {
   "cell_type": "code",
   "execution_count": 18,
   "id": "c53329b0",
   "metadata": {},
   "outputs": [
    {
     "data": {
      "image/png": "[encoded data removed]",
      "text/plain": [
       "<IPython.core.display.Image object>"
      ]
     },
     "execution_count": 18,
     "metadata": {},
     "output_type": "execute_result"
    }
   ],
   "source": [
    "# Export the decision tree as a DOT file\n",
    "dot_data = export_graphviz(clf, out_file=None, \n",
    "                           feature_names=['Input 1', 'Input 2'], \n",
    "                           class_names=['0', '1'], \n",
    "                           filled=True, rounded=True, special_characters=True)\n",
    "\n",
    "# Create a graph from the DOT data\n",
    "graph = pydotplus.graph_from_dot_data(dot_data)\n",
    "\n",
    "# Save the graph as an image file (e.g., PNG)\n",
    "graph.write_pdf('or_tree.pdf')\n",
    "\n",
    "# Display the image\n",
    "Image(graph.create_png())\n"
   ]
  },
  {
   "cell_type": "markdown",
   "id": "d8c40443",
   "metadata": {},
   "source": [
    " NOTE : In the above two Decision Tree , I don't know why it is showing black box , I tried to remove it \n",
    " but , it still didn't work . So , Below I am going to use plot_tree for visualization of decision tree , as it is \n",
    " not showing any black box ."
   ]
  },
  {
   "cell_type": "markdown",
   "id": "4b8de395",
   "metadata": {},
   "source": [
    "### Visualizing Decision Tree of Iris dataset and OR Table using plot_tree"
   ]
  },
  {
   "cell_type": "code",
   "execution_count": 19,
   "id": "f6201628",
   "metadata": {},
   "outputs": [],
   "source": [
    "iris = datasets.load_iris()\n",
    "x_train, x_test, y_train, y_test = train_test_split(iris.data, iris.target, random_state = 1)"
   ]
  },
  {
   "cell_type": "code",
   "execution_count": 20,
   "id": "d6b18ce2",
   "metadata": {},
   "outputs": [
    {
     "data": {
      "text/plain": [
       "DecisionTreeClassifier()"
      ]
     },
     "execution_count": 20,
     "metadata": {},
     "output_type": "execute_result"
    }
   ],
   "source": [
    "clf = DecisionTreeClassifier()\n",
    "clf.fit(x_train, y_train)"
   ]
  },
  {
   "cell_type": "code",
   "execution_count": 26,
   "id": "305b1e1b",
   "metadata": {},
   "outputs": [
    {
     "data": {
      "image/png": "[encoded data removed]",
      "text/plain": [
       "<Figure size 640x480 with 1 Axes>"
      ]
     },
     "metadata": {},
     "output_type": "display_data"
    },
    {
     "data": {
      "text/plain": [
       "<Figure size 2000x1500 with 0 Axes>"
      ]
     },
     "metadata": {},
     "output_type": "display_data"
    }
   ],
   "source": [
    "plot_tree(clf, fontsize = 4, filled = True, feature_names = ['sl', 'sw', 'pl', 'pw'], \n",
    "         class_names = iris.target_names, rounded = True)\n",
    "plt.figure('Iris Tree', figsize = [20, 15])\n",
    "plt.show()"
   ]
  },
  {
   "cell_type": "markdown",
   "id": "9d2d1442",
   "metadata": {},
   "source": [
    "#### OR Table"
   ]
  },
  {
   "cell_type": "code",
   "execution_count": 27,
   "id": "166ea604",
   "metadata": {},
   "outputs": [],
   "source": [
    "# Create dataset for OR logic\n",
    "X = [[0, 0], [0, 1], [1, 0], [1, 1]]\n",
    "y = [0, 1, 1, 1]"
   ]
  },
  {
   "cell_type": "code",
   "execution_count": 28,
   "id": "7223991a",
   "metadata": {},
   "outputs": [
    {
     "data": {
      "text/plain": [
       "DecisionTreeClassifier()"
      ]
     },
     "execution_count": 28,
     "metadata": {},
     "output_type": "execute_result"
    }
   ],
   "source": [
    "# Create a Decision Tree classifier\n",
    "clf = DecisionTreeClassifier()\n",
    "clf.fit(X, y)"
   ]
  },
  {
   "cell_type": "code",
   "execution_count": 29,
   "id": "32eddcd5",
   "metadata": {},
   "outputs": [
    {
     "data": {
      "image/png": "[encoded data removed]",
      "text/plain": [
       "<Figure size 640x480 with 1 Axes>"
      ]
     },
     "metadata": {},
     "output_type": "display_data"
    },
    {
     "data": {
      "text/plain": [
       "<Figure size 2000x1500 with 0 Axes>"
      ]
     },
     "metadata": {},
     "output_type": "display_data"
    }
   ],
   "source": [
    "plot_tree(clf , fontsize = 10, filled = True, feature_names = ['X1', 'X2'], \n",
    "         class_names = ['0', '1'], rounded = True)\n",
    "plt.figure('OR table Tree', figsize = [20, 15])\n",
    "plt.show()"
   ]
  },
  {
   "cell_type": "markdown",
   "id": "c99f7b32",
   "metadata": {},
   "source": [
    "## Thank you 🙂"
   ]
  }
 ],
 "metadata": {
  "kernelspec": {
   "display_name": "Python 3 (ipykernel)",
   "language": "python",
   "name": "python3"
  },
  "language_info": {
   "codemirror_mode": {
    "name": "ipython",
    "version": 3
   },
   "file_extension": ".py",
   "mimetype": "text/x-python",
   "name": "python",
   "nbconvert_exporter": "python",
   "pygments_lexer": "ipython3",
   "version": "3.9.13"
  }
 },
 "nbformat": 4,
 "nbformat_minor": 5
}
